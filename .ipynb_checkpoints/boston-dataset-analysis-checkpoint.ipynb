{
 "cells": [
  {
   "cell_type": "code",
   "execution_count": 1,
   "metadata": {
    "_cell_guid": "b1076dfc-b9ad-4769-8c92-a6c4dae69d19",
    "_uuid": "8f2839f25d086af736a60e9eeb907d3b93b6e0e5"
   },
   "outputs": [
    {
     "ename": "FileNotFoundError",
     "evalue": "[Errno 2] No such file or directory: '../input'",
     "output_type": "error",
     "traceback": [
      "\u001b[0;31m---------------------------------------------------------------------------\u001b[0m",
      "\u001b[0;31mFileNotFoundError\u001b[0m                         Traceback (most recent call last)",
      "\u001b[0;32m/tmp/ipykernel_10474/4099564641.py\u001b[0m in \u001b[0;36m<module>\u001b[0;34m\u001b[0m\n\u001b[1;32m     10\u001b[0m \u001b[0;34m\u001b[0m\u001b[0m\n\u001b[1;32m     11\u001b[0m \u001b[0;32mimport\u001b[0m \u001b[0mos\u001b[0m\u001b[0;34m\u001b[0m\u001b[0;34m\u001b[0m\u001b[0m\n\u001b[0;32m---> 12\u001b[0;31m \u001b[0mprint\u001b[0m\u001b[0;34m(\u001b[0m\u001b[0mos\u001b[0m\u001b[0;34m.\u001b[0m\u001b[0mlistdir\u001b[0m\u001b[0;34m(\u001b[0m\u001b[0;34m\"../input\"\u001b[0m\u001b[0;34m)\u001b[0m\u001b[0;34m)\u001b[0m\u001b[0;34m\u001b[0m\u001b[0;34m\u001b[0m\u001b[0m\n\u001b[0m\u001b[1;32m     13\u001b[0m \u001b[0;34m\u001b[0m\u001b[0m\n\u001b[1;32m     14\u001b[0m \u001b[0;31m# Any results you write to the current directory are saved as output.\u001b[0m\u001b[0;34m\u001b[0m\u001b[0;34m\u001b[0m\u001b[0m\n",
      "\u001b[0;31mFileNotFoundError\u001b[0m: [Errno 2] No such file or directory: '../input'"
     ]
    }
   ],
   "source": [
    "# This Python 3 environment comes with many helpful analytics libraries installed\n",
    "# It is defined by the kaggle/python docker image: https://github.com/kaggle/docker-python\n",
    "# For example, here's several helpful packages to load in \n",
    "\n",
    "import numpy as np # linear algebra\n",
    "import pandas as pd # data processing, CSV file I/O (e.g. pd.read_csv)\n",
    "\n",
    "# Input data files are available in the \"../input/\" directory.\n",
    "# For example, running this (by clicking run or pressing Shift+Enter) will list the files in the input directory\n",
    "\n",
    "import os\n",
    "print(os.listdir(\"../input\"))\n",
    "\n",
    "# Any results you write to the current directory are saved as output."
   ]
  },
  {
   "cell_type": "code",
   "execution_count": null,
   "metadata": {
    "_cell_guid": "79c7e3d0-c299-4dcb-8224-4455121ee9b0",
    "_uuid": "d629ff2d2480ee46fbb7e2d37f6b5fab8052498a"
   },
   "outputs": [],
   "source": [
    "#importing the necessary libraries such as numpy, pandas, matplotlib and seaborn\n",
    "import numpy as np\n",
    "import pandas as pd\n",
    "import matplotlib.pyplot as plt\n",
    "import seaborn as sns\n",
    "%matplotlib inline"
   ]
  },
  {
   "cell_type": "code",
   "execution_count": null,
   "metadata": {
    "_uuid": "0403c0e4baffb68a0e8a720410f6d823c837bc2c"
   },
   "outputs": [],
   "source": [
    "#the required data set is available in sklearn only. Hence the boston housing data is available from sklearn\n",
    "from sklearn.datasets import load_boston"
   ]
  },
  {
   "cell_type": "code",
   "execution_count": null,
   "metadata": {
    "_uuid": "33d601e694c6886f0f08f2ea501b73b9126db498"
   },
   "outputs": [],
   "source": [
    "boston = load_boston()"
   ]
  },
  {
   "cell_type": "markdown",
   "metadata": {
    "_uuid": "0ccea4e8e429943c0cb33234b9f3552cdf5fd380",
    "collapsed": true
   },
   "source": [
    "Let us explore the dataset boston and its features"
   ]
  },
  {
   "cell_type": "code",
   "execution_count": null,
   "metadata": {
    "_uuid": "6c67f339349ad5b89d1a3b374c1eee50a645fab7"
   },
   "outputs": [],
   "source": [
    "boston.keys()\n",
    "# the below shows the details under the dataset. 'data' is the actual data. feature_names are the name of the columns of data.\n",
    "#target is the dependant variable which is the price of the houses. DESCR gives the details of the dataset. We can access all \n",
    "#details under the keys using 'dot' operator"
   ]
  },
  {
   "cell_type": "code",
   "execution_count": null,
   "metadata": {
    "_uuid": "b58a3f53c91e5bf59bcb410e2675074cc1b273dd"
   },
   "outputs": [],
   "source": [
    "#the boston data has dataset, target, features, description and a filename"
   ]
  },
  {
   "cell_type": "code",
   "execution_count": null,
   "metadata": {
    "_uuid": "4b0a161e4aeb82ef34c9b43f5d53ae228b65d149"
   },
   "outputs": [],
   "source": [
    "#let us check the data. the data is shown in terms of arrays.\n",
    "boston.data"
   ]
  },
  {
   "cell_type": "code",
   "execution_count": null,
   "metadata": {
    "_uuid": "eb587ce94f3bd763ac1f3ea6a214ecedab32061f"
   },
   "outputs": [],
   "source": [
    "boston.feature_names\n",
    "#these are the names of the columns"
   ]
  },
  {
   "cell_type": "code",
   "execution_count": null,
   "metadata": {
    "_uuid": "c6fbd95fbb01bbef34d08bdc4432de78ba804ba2"
   },
   "outputs": [],
   "source": [
    "#we can find the information about the data using 'DESCR'\n",
    "print(boston.DESCR)"
   ]
  },
  {
   "cell_type": "markdown",
   "metadata": {
    "_uuid": "4ba6df811eeed5847e82ded30ecc65bb5c3df972",
    "collapsed": true
   },
   "source": [
    "Important information: The dataset contains 14 attributes. there are 506 instances(rows). there are no missing data. Further information can be gathered by converting the data in to dataframe using pandas."
   ]
  },
  {
   "cell_type": "code",
   "execution_count": null,
   "metadata": {
    "_uuid": "7fcc700455d9971bb48d569f8d7001e329aaed42"
   },
   "outputs": [],
   "source": [
    "#convert the data in to pandas dataframe\n",
    "dfx = pd.DataFrame(boston.data, columns = boston.feature_names)\n",
    "#all the independant variables/predictors are named as dfx"
   ]
  },
  {
   "cell_type": "code",
   "execution_count": null,
   "metadata": {
    "_uuid": "9275335b7cd27437f0d6afcf0cd474f7fde89749"
   },
   "outputs": [],
   "source": [
    "dfy = pd.DataFrame(boston.target, columns = ['target'])\n",
    "#the dependant variable/outcome is the target and it is named as dfy"
   ]
  },
  {
   "cell_type": "code",
   "execution_count": null,
   "metadata": {
    "_uuid": "6945a49e3ad123d088ed2317819742d0be4e4a19"
   },
   "outputs": [],
   "source": [
    "dfcombine = dfx.join(dfy)\n",
    "#both the dataframes are combined and named as dfcombine"
   ]
  },
  {
   "cell_type": "code",
   "execution_count": null,
   "metadata": {
    "_uuid": "96a3aab7ae85a74c23d991407603f041ac3866e1"
   },
   "outputs": [],
   "source": [
    "#let us view and examine the head of the combined dataframe\n",
    "dfcombine.head()"
   ]
  },
  {
   "cell_type": "markdown",
   "metadata": {
    "_uuid": "004218a47bc2f7c758898fc61840d2f1b12be6d6",
    "collapsed": true
   },
   "source": [
    "#Let us check the correlation of the features with each other and with the target"
   ]
  },
  {
   "cell_type": "code",
   "execution_count": null,
   "metadata": {
    "_uuid": "93cf23b8882b66cbac75e6b872c02b28a68116e2"
   },
   "outputs": [],
   "source": [
    "plt.figure(figsize = (12,6))\n",
    "sns.heatmap(dfcombine.corr(),annot = True)"
   ]
  },
  {
   "cell_type": "code",
   "execution_count": null,
   "metadata": {
    "_uuid": "e0bc59bb8d9c0b86bf3369e11d6eb5433c6a0b36"
   },
   "outputs": [],
   "source": [
    "#the predictor variable such as crime, INDUS-proportion of non retail business across town,  NOX-nitric oxides concentration \n",
    "#(parts per 10 million),Age, RAD -index of accessibility to radial highways, tax, PTRATIO - pupil-teacher ratio by town,\n",
    "# LSTAT -% lower status of the population have a negative correlation on the target. Increase of any of the above variables\n",
    "#leads to the decrease in the price of the housing\n",
    "\n",
    "#the predictor variable such as ZN-proportion of residential land zoned for lots over 25,000 sq.ft.\n",
    "#, RM-average number of rooms per dwelling , DIS - weighted distances to five Boston employment centres ,\n",
    "# B - 1000(Bk - 0.63)^2 where Bk is the proportion of blacks by town, all these variables have good posotove correlation\n",
    "#with the target. increase in any of the bove variables leads to the increase in the price of the house"
   ]
  },
  {
   "cell_type": "code",
   "execution_count": null,
   "metadata": {
    "_uuid": "8be26f31f4235988a4ae9d45ab50cc28f73cd826"
   },
   "outputs": [],
   "source": [
    "#to perform the train test split of the data, the train test split function is imported from sklearn\n",
    "from sklearn.model_selection import train_test_split"
   ]
  },
  {
   "cell_type": "code",
   "execution_count": null,
   "metadata": {
    "_uuid": "8ab4325dd9afd73f32fe82bccac5eb92e13a82f3"
   },
   "outputs": [],
   "source": [
    "#the percentage of the split is taken as 30%. SO the percentage of training is 70%\n",
    "X_train, X_test, y_train, y_test = train_test_split(dfx, dfy, test_size=0.3, random_state=42)"
   ]
  },
  {
   "cell_type": "code",
   "execution_count": null,
   "metadata": {
    "_uuid": "b43dd027c31a9ffbb3f586c2cfca29057d740034"
   },
   "outputs": [],
   "source": [
    "#the given problem is a classificaton problem. Hence linear regression is used for ML algorithm\n",
    "from sklearn.linear_model import LinearRegression"
   ]
  },
  {
   "cell_type": "code",
   "execution_count": null,
   "metadata": {
    "_uuid": "01e33deaef1fe122c3314f32c22a9eceae20b83f"
   },
   "outputs": [],
   "source": [
    "linR = LinearRegression()"
   ]
  },
  {
   "cell_type": "code",
   "execution_count": null,
   "metadata": {
    "_uuid": "c4620574aaa7c61b25d96f7bb97abffeb6b82f8d"
   },
   "outputs": [],
   "source": [
    "linR.fit(X_train, y_train)"
   ]
  },
  {
   "cell_type": "code",
   "execution_count": null,
   "metadata": {
    "_uuid": "560e1e27195191af406761418cb2af1031a9ff32"
   },
   "outputs": [],
   "source": [
    "#the target is predicted for the test dataset\n",
    "predictions = linR.predict(X_test)"
   ]
  },
  {
   "cell_type": "code",
   "execution_count": null,
   "metadata": {
    "_uuid": "89e63f071ca448c0f2ad416387d66bccf4622839"
   },
   "outputs": [],
   "source": [
    "#the accuracy of the prediction is found to be 71% \n",
    "linR.score(X_test,y_test)"
   ]
  },
  {
   "cell_type": "code",
   "execution_count": null,
   "metadata": {
    "_uuid": "d2f8db6ffd245ef7a878fc4c2b725ede47488a81"
   },
   "outputs": [],
   "source": [
    "error = y_test - predictions"
   ]
  },
  {
   "cell_type": "code",
   "execution_count": null,
   "metadata": {
    "_uuid": "7d913dc042c30db02bcca325d815ceef6dff1241"
   },
   "outputs": [],
   "source": [
    "#the error is calculated for the above test predictions and a distribution plot is plotted.\n",
    "sns.distplot(error)"
   ]
  },
  {
   "cell_type": "code",
   "execution_count": null,
   "metadata": {
    "_uuid": "0b7411af9c8f98f6a8a30f0d40897aadc65225e4"
   },
   "outputs": [],
   "source": [
    "dfx.shape"
   ]
  },
  {
   "cell_type": "code",
   "execution_count": null,
   "metadata": {
    "_uuid": "c200eb6eef5b20e89a3ad8040fb673f27bf1c757"
   },
   "outputs": [],
   "source": [
    "oness = np.ones((506,1),dtype = int)\n",
    "dfone = pd.DataFrame(oness, columns = ['ones'])"
   ]
  },
  {
   "cell_type": "code",
   "execution_count": null,
   "metadata": {
    "_uuid": "eac010e25fc968686729c88b745d6c0e987fbfac"
   },
   "outputs": [],
   "source": [
    "dfxnew = dfone.join(dfx)"
   ]
  },
  {
   "cell_type": "code",
   "execution_count": null,
   "metadata": {
    "_uuid": "856531e36736c5c44fd33c43f3337b8c8099209d"
   },
   "outputs": [],
   "source": [
    "dfxnew.head()"
   ]
  },
  {
   "cell_type": "code",
   "execution_count": null,
   "metadata": {
    "_uuid": "8c8397882ea7939c2717e2210c8d648b900a769a"
   },
   "outputs": [],
   "source": [
    "import statsmodels.formula.api as sm"
   ]
  },
  {
   "cell_type": "code",
   "execution_count": null,
   "metadata": {
    "_uuid": "e6e496e5c45e1b4d473b16dc96d136c723013bc2"
   },
   "outputs": [],
   "source": [
    "lir_ols = sm.OLS(endog= dfy, exog = dfxnew).fit()"
   ]
  },
  {
   "cell_type": "code",
   "execution_count": null,
   "metadata": {
    "_uuid": "00fb2f85ca28066bfa21822fadf9c3a13a7c1bb2"
   },
   "outputs": [],
   "source": [
    "lir_ols.summary()"
   ]
  },
  {
   "cell_type": "markdown",
   "metadata": {
    "_uuid": "91b9811c49563a573a674601b38ebe6f18002b09"
   },
   "source": [
    "From the statsmodels the p valuue, R value and F-value has been calculated. Considering the p-value 0.05, eliminate features which has p value more than 0.05.  INDUS, AGE are those with high p-values. Which means these features are not significant in affecting the target"
   ]
  },
  {
   "cell_type": "code",
   "execution_count": null,
   "metadata": {
    "_uuid": "545c012eb51a4fe2925c67727840c4c2cfa6287b"
   },
   "outputs": [],
   "source": [
    "dfx2 = dfxnew.drop(['INDUS','AGE'], axis = 1)"
   ]
  },
  {
   "cell_type": "code",
   "execution_count": null,
   "metadata": {
    "_uuid": "d7e22e4d67b911cc896d91e2fb95a6c27137d1cc"
   },
   "outputs": [],
   "source": [
    "lir_ols = sm.OLS(endog= dfy, exog = dfx2).fit()"
   ]
  },
  {
   "cell_type": "code",
   "execution_count": null,
   "metadata": {
    "_uuid": "84ac1cf23100704c444da59a1dacc31e9825f45a"
   },
   "outputs": [],
   "source": [
    "lir_ols.summary()"
   ]
  },
  {
   "cell_type": "code",
   "execution_count": null,
   "metadata": {
    "_uuid": "8a85f2fcfe50486921db14f0b17d381c7d15c1aa"
   },
   "outputs": [],
   "source": []
  }
 ],
 "metadata": {
  "kernelspec": {
   "display_name": "Python 3 (ipykernel)",
   "language": "python",
   "name": "python3"
  },
  "language_info": {
   "codemirror_mode": {
    "name": "ipython",
    "version": 3
   },
   "file_extension": ".py",
   "mimetype": "text/x-python",
   "name": "python",
   "nbconvert_exporter": "python",
   "pygments_lexer": "ipython3",
   "version": "3.9.7"
  }
 },
 "nbformat": 4,
 "nbformat_minor": 1
}
