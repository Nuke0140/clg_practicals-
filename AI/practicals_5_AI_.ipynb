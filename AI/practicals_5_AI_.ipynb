{
 "cells": [
  {
   "cell_type": "markdown",
   "id": "d4395307",
   "metadata": {},
   "source": [
    "<p><b>AIM :</b><br><span>Implement solution for a contraint satisfaction problem using branch and bond and backtracking for a graph coloring problem </span></p>\n",
    "<hr>\n",
    "<h6><i>Introduction</i></h6>\n",
    "<h2 style=\"text-align: center;text-shadow: 1px 2px 2px #CE5937;\"><b>Constraint satisfaction problem</b></h2>\n",
    "<p><b> Approach</b>The idea is to assign colors one by one to different vertices, starting from the vertex 0. Before assigning a color, check for safety by considering already assigned colors to the adjacent vertices i.e check if the adjacent vertices have the same color or not. If there is any color assignment that does not violate the conditions, mark the color assignment as part of the solution. If no assignment of color is possible then backtrack and return false.</p>\n",
    "<p><b> Algorithm:</b>\n",
    "   <ul>\n",
    "       <li>Create a recursive function that takes the graph, current index, number of vertices, and output color array.</li>\n",
    "       <li>if the current index is equal to the number of vertices. Print the color configuration in output array.</li>\n",
    "       <li>Assign a color to a vertex (1 to m).</li>\n",
    "       <li>For every assigned color, check if the configuration is safe, (i.e. check if the adjacent vertices do not have the same color) recursively call the function with next index and number of vertices</li>\n",
    "       <li>If any recursive function returns true break the loop and return true.</li>\n",
    "       <li>If no recursive function returns true then return false.</li>\n",
    "       </ul>\n",
    "\n",
    "       \n",
    " "
   ]
  },
  {
   "cell_type": "code",
   "execution_count": 1,
   "id": "6255e004",
   "metadata": {},
   "outputs": [
    {
     "name": "stdout",
     "output_type": "stream",
     "text": [
      "Solution exist and Following are the assigned colours:\n",
      "1 2 3 2 "
     ]
    },
    {
     "data": {
      "text/plain": [
       "True"
      ]
     },
     "execution_count": 1,
     "metadata": {},
     "output_type": "execute_result"
    }
   ],
   "source": [
    "# Python program for solution of M Coloring\n",
    "# problem using backtracking\n",
    " \n",
    "class Graph():\n",
    " \n",
    "    def __init__(self, vertices):\n",
    "        self.V = vertices\n",
    "        self.graph = [[0 for column in range(vertices)]\\\n",
    "                              for row in range(vertices)]\n",
    " \n",
    "    # A utility function to check\n",
    "    # if the current color assignment\n",
    "    # is safe for vertex v\n",
    "    def isSafe(self, v, colour, c):\n",
    "        for i in range(self.V):\n",
    "            if self.graph[v][i] == 1 and colour[i] == c:\n",
    "                return False\n",
    "        return True\n",
    "     \n",
    "    # A recursive utility function to solve m\n",
    "    # coloring  problem\n",
    "    def graphColourUtil(self, m, colour, v):\n",
    "        if v == self.V:\n",
    "            return True\n",
    " \n",
    "        for c in range(1, m + 1):\n",
    "            if self.isSafe(v, colour, c) == True:\n",
    "                colour[v] = c\n",
    "                if self.graphColourUtil(m, colour, v + 1) == True:\n",
    "                    return True\n",
    "                colour[v] = 0\n",
    " \n",
    "    def graphColouring(self, m):\n",
    "        colour = [0] * self.V\n",
    "        if self.graphColourUtil(m, colour, 0) == None:\n",
    "            return False\n",
    " \n",
    "        # Print the solution\n",
    "        print (\"Solution exist and Following are the assigned colours:\")\n",
    "        for c in colour:\n",
    "            print (c,end=' ')\n",
    "        return True\n",
    " \n",
    "# Driver Code\n",
    "g = Graph(4)\n",
    "g.graph = [[0, 1, 1, 1], [1, 0, 1, 0], [1, 1, 0, 1], [1, 0, 1, 0]]\n",
    "m = 3\n",
    "g.graphColouring(m)\n",
    " "
   ]
  }
 ],
 "metadata": {
  "kernelspec": {
   "display_name": "Python 3 (ipykernel)",
   "language": "python",
   "name": "python3"
  },
  "language_info": {
   "codemirror_mode": {
    "name": "ipython",
    "version": 3
   },
   "file_extension": ".py",
   "mimetype": "text/x-python",
   "name": "python",
   "nbconvert_exporter": "python",
   "pygments_lexer": "ipython3",
   "version": "3.9.7"
  }
 },
 "nbformat": 4,
 "nbformat_minor": 5
}
